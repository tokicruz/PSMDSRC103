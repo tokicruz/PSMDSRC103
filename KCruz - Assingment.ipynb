{
 "cells": [
  {
   "cell_type": "markdown",
   "id": "89201f5a-f567-4370-a489-0b116b318c11",
   "metadata": {},
   "source": [
    "# Assignment 1.1 Practice Set 2, Indexing and Slicing using Python\n",
    "\n",
    "### Instructions:\n",
    "\n",
    "- Create a Python notebook and perform the tasks below.\n",
    "- Please take note that you may use comments or text blocks to explain your answers.\n",
    "- Save the file and submit the link of the notebook."
   ]
  },
  {
   "cell_type": "markdown",
   "id": "17a7393d-d1c2-4dc9-a4d0-c50857d9a562",
   "metadata": {},
   "source": [
    "## Task 1: Type the expressions below, and try to explain what's happening in each case."
   ]
  },
  {
   "cell_type": "code",
   "execution_count": 9,
   "id": "e9fd9789-7a76-46e7-9fbc-63539ad26bf2",
   "metadata": {},
   "outputs": [
    {
     "name": "stdout",
     "output_type": "stream",
     "text": [
      "65536\n",
      "0.4 0.4\n",
      "spameggs\n",
      "eggs ham\n",
      "hamhamhamhamham\n",
      "green eggs and ham\n",
      "x\n",
      "y\n",
      "[1, 2, 3, 4, 5, 6] [1, 2, 3, 4, 5, 6] [] 5 [5, 6]\n",
      "[3, 4]\n",
      "[3, 4]\n",
      "[6, 5, 4, 3, 2, 1]\n",
      "[1, 2, 3, 4, 5, 6]\n",
      "3\n",
      "2\n",
      "1\n",
      "dict_keys(['x', 'y', 'z', 'w', (1, 2, 3)]) dict_values([1, 2, 3, 0, 4])\n",
      "True\n",
      "[[]] ['', [], {}, None]\n"
     ]
    }
   ],
   "source": [
    "# 2 ** 16\n",
    "# Calculates 2 raised to the power of 16. The ** operator is used for exponentiation.\n",
    "print (2 ** 16)\n",
    "\n",
    "# 2 / 5, 2 / 5.0\n",
    "# Performs division, with the integer 2 as the numerator for both expressions.\n",
    "# Integer 5 and floating-point number 5.0 as the denominators for each of the expressions, respectively.\n",
    "print(2 / 5, 2 / 5.0)\n",
    "\n",
    "# \"spam\" + \"eggs\"\n",
    "# Concatenates or combines the two strings, \"spam\" and \"egg\".\n",
    "print(\"spam\" + \"eggs\")\n",
    "\n",
    "# S = \"ham\"\n",
    "# Variable S gets assigned the value of the string \"ham\".\n",
    "S = \"ham\"\n",
    "\n",
    "# \"eggs \" + S\n",
    "# Concatenates the string \"eggs \" with the value of the variable S, which is the string \"ham\".\n",
    "print(\"eggs \" + S)\n",
    "\n",
    "# S*5\n",
    "# Repeats the value of the variable, which is the string \"ham\", by 5 times.\n",
    "print(S*5)\n",
    "\n",
    "# S[:0]\n",
    "# Slices the value of S, which is the string \"ham\". \n",
    "# Slicing starts and stops both at index 0, or the first character \"h\", hence returning with an empty string.\n",
    "print(S[:0])\n",
    "\n",
    "# \"green %s and %s\" % (\"eggs\", S)\n",
    "# This uses string formatting to insert the values \"eggs\" and \"ham\" into the string.\n",
    "print(\"green %s and %s\" % (\"eggs\", S))\n",
    "\n",
    "# ('x',) [0]\n",
    "# This is a tuple containing one element, 'x', and it accesses the first element, returning 'x'.\n",
    "print(('x',) [0])\n",
    "\n",
    "# ('x', 'y') [1]\n",
    "# This is a tuple with two elements, and it accesses the second element, returning 'y'.\n",
    "print(('x', 'y') [1])\n",
    "\n",
    "# L = [1,2,3] + [4,5,6] \n",
    "# This concatenates two lists.\n",
    "L = [1,2,3] + [4,5,6] \n",
    "print(L, L[:], L[:0], L[-2], L[-2:])\n",
    "\n",
    "# ([1,2,3] + [4,5,6]) [2:4] \n",
    "# This concatenates two lists and slices the result to get elements at index 2 and 3.\n",
    "print(([1,2,3] + [4,5,6]) [2:4])\n",
    "\n",
    "# [L[2], L[3]] \n",
    "# This creates a new list containing elements at index 2 and 3 of L.\n",
    "print([L[2], L[3]])\n",
    "\n",
    "# L.reverse(); L \n",
    "# This reverses the list L in place.\n",
    "L.reverse(); print(L)\n",
    "\n",
    "# L.sort(); L \n",
    "# This sorts the list L in place.\n",
    "L.sort(); print(L)\n",
    "\n",
    "# L.index(4)\n",
    "# This returns the index of the first occurrence of the value 4 in the list.\n",
    "print(L.index(4))\n",
    "\n",
    "# {'a':1, 'b':2} ['b']\n",
    "# This accesses the value associated with the key 'b' in the dictionary.\n",
    "print({'a':1, 'b':2} ['b'])\n",
    "\n",
    "# D = {'x':1, 'y':2, 'z':3}\n",
    "# D['w'] = 0\n",
    "# This adds a new key-value pair to the dictionary D.\n",
    "D = {'x':1, 'y':2, 'z':3}\n",
    "D['w'] = 0\n",
    "print(D['x'] + D['w'])\n",
    "\n",
    "# D[(1,2,3)] = 4\n",
    "# This adds a new key-value pair to the dictionary D with a tuple as the key.\n",
    "D[(1,2,3)] = 4\n",
    "print(D.keys(), D.values())\n",
    "\n",
    "# D.has_key((1,2,3)) \n",
    "# This checks if the key (1, 2, 3) exists in the dictionary. Note: `has_key` was removed in Python 3, so you would use `(1, 2, 3) in D` instead.\n",
    "print((1, 2, 3) in D)\n",
    "\n",
    "# [[]], [\"\", [], {}, None]\n",
    "# This creates a list containing an empty list, and a list containing an empty string, an empty list, an empty dictionary, and `None`.\n",
    "print([[]], [\"\", [], {}, None])\n"
   ]
  },
  {
   "cell_type": "markdown",
   "id": "68d746e7-d3c0-4e62-acad-b75aef41d23a",
   "metadata": {},
   "source": [
    "## Task 2: Define a list named L that contains four strings or numbers. Experiment with the following boundary cases."
   ]
  },
  {
   "cell_type": "raw",
   "id": "e572f857-221f-4ab8-b02f-f416eb4c443b",
   "metadata": {},
   "source": [
    "Attempt to index out of bounds. (Ex. L[66])\n",
    "Attempt to slice out of bounds. (Ex. L[-9999:100])\n",
    "Try extracting a sequence in reverse. Make the lower bound higher than the upper bound (Ex. L[3:1]). Attempt to perform L[3:1] = ['?']. Explain the output."
   ]
  },
  {
   "cell_type": "code",
   "execution_count": 5,
   "id": "2f3ddf24-cd1d-4044-87ca-ca6d67110b3e",
   "metadata": {},
   "outputs": [
    {
     "name": "stdout",
     "output_type": "stream",
     "text": [
      "list index out of range\n",
      "[10, 20, 30, 40]\n",
      "[]\n",
      "[10, 20, 30, '?', 40]\n"
     ]
    }
   ],
   "source": [
    "L = [10, 20, 30, 40]\n",
    "\n",
    "# Attempt to index out of bounds. (Ex. L[66])\n",
    "# This raises an IndexError because there is no index 66 in the list.\n",
    "try:\n",
    "    print(L[66])\n",
    "except IndexError as e:\n",
    "    print(e)\n",
    "\n",
    "# Attempt to slice out of bounds. (Ex. L[-9999:100])\n",
    "# Slicing out of bounds does not raise an error; it just returns the elements within the range if they exist.\n",
    "print(L[-9999:100])\n",
    "\n",
    "# Try extracting a sequence in reverse. (Ex. L[3:1])\n",
    "# This returns an empty list because the start index is greater than the stop index.\n",
    "print(L[3:1])\n",
    "\n",
    "# Attempt to perform L[3:1] = ['?']\n",
    "# This will insert '?' between index 3 and 1, which effectively inserts it at index 3.\n",
    "L[3:1] = ['?']\n",
    "print(L)"
   ]
  },
  {
   "cell_type": "markdown",
   "id": "c3e1ca7c-b65d-4a43-9541-1c93439e0e03",
   "metadata": {},
   "source": [
    "## Task 3: Define another list L, perform the following and use comments to explain:\n"
   ]
  },
  {
   "cell_type": "raw",
   "id": "854ed573-c337-482b-8261-2f79dd2b4a6d",
   "metadata": {},
   "source": [
    "Assign a list as one of its elements.\n",
    "Assign an empty list to a range.\n",
    "Delete an item in your list using the del statement.\n",
    "Delete an entire range from your list.\n",
    "Assign a non-sequence value to a slice."
   ]
  },
  {
   "cell_type": "code",
   "execution_count": 6,
   "id": "411877a7-402f-4551-8efc-7a8e9e7ced7e",
   "metadata": {},
   "outputs": [
    {
     "name": "stdout",
     "output_type": "stream",
     "text": [
      "[1, [5, 6], 3, 4]\n",
      "[1, [5, 6]]\n",
      "[[5, 6]]\n",
      "[]\n",
      "[1, 99, 4]\n"
     ]
    }
   ],
   "source": [
    "L = [1, 2, 3, 4]\n",
    "\n",
    "# Assign a list as one of its elements.\n",
    "L[1] = [5, 6]\n",
    "print(L)\n",
    "\n",
    "# Assign an empty list to a range.\n",
    "L[2:4] = []\n",
    "print(L)\n",
    "\n",
    "# Delete an item in your list using the del statement.\n",
    "del L[0]\n",
    "print(L)\n",
    "\n",
    "# Delete an entire range from your list.\n",
    "del L[:]\n",
    "print(L)\n",
    "\n",
    "# Assign a non-sequence value to a slice.\n",
    "# This will replace the entire slice with the single value.\n",
    "L = [1, 2, 3, 4]\n",
    "L[1:3] = [99]\n",
    "print(L)\n"
   ]
  },
  {
   "cell_type": "markdown",
   "id": "9f8e86e8-8822-43ce-adff-132139e2739e",
   "metadata": {},
   "source": [
    "## Task 4: Create a dictionary named D with three entries, for keys a, b, and c."
   ]
  },
  {
   "cell_type": "raw",
   "id": "3518468d-1bff-4ab9-8fe4-87b4687fdf96",
   "metadata": {},
   "source": [
    "What happens if you try to index a nonexistent key d (D[‘d’])?\n",
    "What does python do if you try to assign to a nonexistent key?\n",
    "Compare this to out of bounds assignments."
   ]
  },
  {
   "cell_type": "code",
   "execution_count": 8,
   "id": "388d31af-38a7-422f-a7ea-4254f47f5fc2",
   "metadata": {},
   "outputs": [
    {
     "name": "stdout",
     "output_type": "stream",
     "text": [
      "'d'\n",
      "{'a': 1, 'b': 2, 'c': 3, 'd': 4}\n"
     ]
    }
   ],
   "source": [
    "D = {'a': 1, 'b': 2, 'c': 3}\n",
    "\n",
    "# What happens if you try to index a nonexistent key d (D[‘d’])?\n",
    "# This will raise a KeyError because 'd' does not exist in the dictionary.\n",
    "try:\n",
    "    print(D['d'])\n",
    "except KeyError as e:\n",
    "    print(e)\n",
    "\n",
    "# What does python do if you try to assign to a nonexistent key?\n",
    "# This will create a new key-value pair in the dictionary.\n",
    "D['d'] = 4\n",
    "print(D)\n",
    "\n",
    "# Compare this to out-of-bounds assignments.\n",
    "# For lists, indexing out of bounds raises an IndexError, while for dictionaries, assigning to a nonexistent key creates a new entry.\n"
   ]
  },
  {
   "cell_type": "markdown",
   "id": "01808761-1dde-472c-bc03-164d0147304b",
   "metadata": {},
   "source": [
    "## Task 5: Run tests to answer the following questions:\n"
   ]
  },
  {
   "cell_type": "markdown",
   "id": "d69f2f78-a380-45bc-8801-80392fb31d10",
   "metadata": {},
   "source": [
    "What happens when you try to use the + operator on different/mixed types?\n",
    "Does + work if one of the operands is a dictionary?\n",
    "Try list.append() (use an actual list you created). Does the append() method work for both lists and strings?\n",
    "Try concatenating (+) two lists or strings, what happens?"
   ]
  },
  {
   "cell_type": "code",
   "execution_count": 9,
   "id": "ac514ca5-beee-4713-9339-4bfdf9cf4cd8",
   "metadata": {},
   "outputs": [
    {
     "name": "stdout",
     "output_type": "stream",
     "text": [
      "can only concatenate str (not \"int\") to str\n",
      "unsupported operand type(s) for +: 'dict' and 'dict'\n",
      "[1, 2, 3, 4]\n",
      "'str' object has no attribute 'append'\n",
      "[1, 2, 3, 4]\n",
      "hello world\n"
     ]
    }
   ],
   "source": [
    "# What happens when you try to use the + operator on different/mixed types?\n",
    "# This will raise a TypeError because you cannot concatenate a string and an integer.\n",
    "try:\n",
    "    print('hello' + 2)\n",
    "except TypeError as e:\n",
    "    print(e)\n",
    "\n",
    "# Does + work if one of the operands is a dictionary?\n",
    "# No, you cannot use + with dictionaries.\n",
    "try:\n",
    "    print({'a': 1} + {'b': 2})\n",
    "except TypeError as e:\n",
    "    print(e)\n",
    "\n",
    "# Try list.append() (use an actual list you created).\n",
    "L = [1, 2, 3]\n",
    "L.append(4)\n",
    "print(L)\n",
    "# The append() method does not work for strings.\n",
    "try:\n",
    "    \"abc\".append(\"d\")\n",
    "except AttributeError as e:\n",
    "    print(e)\n",
    "\n",
    "# Try concatenating (+) two lists or strings, what happens?\n",
    "# This works as expected, concatenating the lists or strings.\n",
    "print([1, 2] + [3, 4])\n",
    "print(\"hello\" + \" world\")\n"
   ]
  },
  {
   "cell_type": "markdown",
   "id": "c8c1a01a-e401-4baf-9b6b-d085d77f1820",
   "metadata": {},
   "source": [
    "## Task 6: Define a string S of four characters. Then type the following expression: S[0] [0] [0] [0]. Explain what is happening.\n"
   ]
  },
  {
   "cell_type": "code",
   "execution_count": 10,
   "id": "07e7c449-0625-4900-b765-cb1975454045",
   "metadata": {},
   "outputs": [
    {
     "name": "stdout",
     "output_type": "stream",
     "text": [
      "s\n"
     ]
    }
   ],
   "source": [
    "S = \"spam\"\n",
    "\n",
    "# S[0] [0] [0] [0]\n",
    "# S[0] accesses the first character 's'. Then [0] tries to index this character, treating it like a sequence.\n",
    "# This returns 's' for each indexing, so the result is 's'.\n",
    "print(S[0] [0] [0] [0])\n"
   ]
  },
  {
   "cell_type": "markdown",
   "id": "63f97895-c8da-4541-ab91-3914fd8948a1",
   "metadata": {},
   "source": [
    "## Task 7: Define a string S of 4 characters again: S = “spam”. Write an assignment that changes the string to “slam”, using only slicing and concatenation. Does it work? Try index assignment."
   ]
  },
  {
   "cell_type": "code",
   "execution_count": 11,
   "id": "f809cabf-b719-4305-b6fe-89e32ef3b96b",
   "metadata": {},
   "outputs": [
    {
     "name": "stdout",
     "output_type": "stream",
     "text": [
      "spam\n",
      "'str' object does not support item assignment\n"
     ]
    }
   ],
   "source": [
    "S = \"spam\"\n",
    "\n",
    "# Attempt to change \"spam\" to \"slam\" using slicing and concatenation.\n",
    "# This works because you are creating a new string with the desired value.\n",
    "S = \"s\" + S[1:]\n",
    "print(S)\n",
    "\n",
    "# Index assignment won't work since strings are immutable in Python.\n",
    "try:\n",
    "    S[0] = \"s\"\n",
    "except TypeError as e:\n",
    "    print(e)"
   ]
  },
  {
   "cell_type": "code",
   "execution_count": null,
   "id": "a2c3d9fa-0823-4883-8eaf-295c70400de9",
   "metadata": {},
   "outputs": [],
   "source": []
  }
 ],
 "metadata": {
  "kernelspec": {
   "display_name": "Python 3 (ipykernel)",
   "language": "python",
   "name": "python3"
  },
  "language_info": {
   "codemirror_mode": {
    "name": "ipython",
    "version": 3
   },
   "file_extension": ".py",
   "mimetype": "text/x-python",
   "name": "python",
   "nbconvert_exporter": "python",
   "pygments_lexer": "ipython3",
   "version": "3.12.4"
  }
 },
 "nbformat": 4,
 "nbformat_minor": 5
}
