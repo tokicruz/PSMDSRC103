{
 "cells": [
  {
   "cell_type": "markdown",
   "id": "ac40c6d6-aad5-4577-b83f-49fc1df66690",
   "metadata": {},
   "source": [
    "# Assessment Task 1.1 Functional Programming (Milestone Exercise 1)\n",
    "\n",
    "## Kempee Royce Cruz\r\n"
   ]
  },
  {
   "cell_type": "markdown",
   "id": "45b82c89-f91e-467f-90a6-3e4c2a5d8d2a",
   "metadata": {},
   "source": [
    "---\n",
    "\n",
    "## Objectives\n",
    "\n",
    "### This activity aims to assess the student's ability to implement fundamental Python programming and fundamental programming paradigms including controls, loops, and functions. rk."
   ]
  },
  {
   "cell_type": "markdown",
   "id": "13c11e57-d98f-4327-952b-0442d8d457f8",
   "metadata": {},
   "source": [
    "## Instructions:\n",
    "\n",
    "- ### Perform the following tasks.\n",
    "- ### Submit the pdf of your accomplished work."
   ]
  },
  {
   "cell_type": "markdown",
   "id": "3a1c961d-f51a-4258-a1a3-682a481668cd",
   "metadata": {},
   "source": [
    "---\n",
    "\n",
    "## Problem Items"
   ]
  },
  {
   "cell_type": "markdown",
   "id": "89c3a4ad-bc8b-407d-a616-1b8233bea228",
   "metadata": {},
   "source": [
    "### 1. Create a dictionary to contain a pair of values, an ID number and a list containing user details, such as name, height, weight and BMI."
   ]
  },
  {
   "cell_type": "code",
   "execution_count": 18,
   "id": "c1c112e6-4278-450f-b81b-b7b37dab65d9",
   "metadata": {},
   "outputs": [
    {
     "name": "stdout",
     "output_type": "stream",
     "text": [
      "{101: ['Anna', 1.65, 68, 24.977043158861342], 102: ['Bebeng', 1.75, 80, 26.122448979591837], 103: ['Corazon', 1.6, 72, 28.124999999999993]}\n"
     ]
    }
   ],
   "source": [
    "# Create individual user details as lists, each represented by unique list names\n",
    "# Each list suffixed by the user's propsective ID number.\n",
    "# Include each user's height and weight details as elements in each list for now. \n",
    "# Note that height should be in meters, ane weight in kilograms. \n",
    "# Height and weight's units of measurement will be relevent in computing BMI later in the process.\n",
    "# [Name, Height, Weight] \n",
    "user_101 = [\"Anna\", 1.65, 68]\n",
    "user_102 = [\"Bebeng\", 1.75, 80]\n",
    "user_103 = [\"Corazon\", 1.60, 72]\n",
    "\n",
    "# Make the dictionary with the available user details above.\n",
    "# Make the ID number as the key, and list name as value of each element in the dictionary users.\n",
    "users = {101: user_101, 102: user_102, 103: user_103}\n",
    "\n",
    "# Define BMI by calculating it based on height and weight details.\n",
    "# Define function calculate_bmi, taking two arguments: weight and height.\n",
    "# BMI = weight / height^2.\n",
    "def calculate_bmi(weight, height):\n",
    "    return weight / (height ** 2)\n",
    "\n",
    "# users.items() to return view object displaying the dictionary's key-value tuple pairs. \n",
    "# user-id to provide pairs of user_id and details for each user.\n",
    "# Assign the second (index 1) and third (index 2) elements to variables height and weight, respectively\n",
    "# Add BMI to each user's details in the dictionary.\n",
    "for user_id, details in users.items():\n",
    "    height = details[1] \n",
    "    weight = details[2]\n",
    "    bmi = calculate_bmi(weight, height)\n",
    "    details.append(bmi)\n",
    "\n",
    "# Print the updated dictionary (now with BMI)\n",
    "print (users)\n"
   ]
  },
  {
   "cell_type": "markdown",
   "id": "8e9a8820-1eda-41a4-a139-aa8ecf876d9d",
   "metadata": {},
   "source": [
    "### 2. Create functions that can perform the following tasks:\n",
    "\n",
    "#### 2a) Add an element to the dictionary with its new ID# and aforementioned details\n",
    "#### 2b) Print a specific user ID\n",
    "#### 2c) Print all details contained"
   ]
  },
  {
   "cell_type": "code",
   "execution_count": 28,
   "id": "206dbe85-a59b-4717-8264-64832983bc19",
   "metadata": {},
   "outputs": [
    {
     "name": "stdout",
     "output_type": "stream",
     "text": [
      "['Anna', 1.65, 68, 24.977043158861342]\n",
      "['Bebeng', 1.75, 80, 26.122448979591837]\n",
      "['Corazon', 1.6, 72, 28.124999999999993]\n",
      "['David', 1.8, 85, 26.234567901234566]\n",
      "{101: ['Anna', 1.65, 68, 24.977043158861342], 102: ['Bebeng', 1.75, 80, 26.122448979591837], 103: ['Corazon', 1.6, 72, 28.124999999999993], 104: ['David', 1.8, 85, 26.234567901234566]}\n"
     ]
    }
   ],
   "source": [
    "# Define function to accept dictionary, a new ID, and the user details as parameters.\n",
    "# users_dict: The dictionary where the new user will be added.\n",
    "# new_id: New user's ID.\n",
    "def add_user(users_dict, new_id, name, height, weight):\n",
    "    details = [name, height, weight]\n",
    "    bmi = calculate_bmi(weight, height)\n",
    "    details.append(bmi)\n",
    "    users_dict[new_id] = details\n",
    "\n",
    "# Add new user\n",
    "add_user(users, 104, \"David\", 1.80, 85)\n",
    "\n",
    "# Print users individually\n",
    "print(users[101])\n",
    "print(users[102])\n",
    "print(users[103])\n",
    "print(users[104])\n",
    "\n",
    "# Print updated dictionary\n",
    "print(users)\n"
   ]
  },
  {
   "cell_type": "markdown",
   "id": "c8821f5f-bca8-4bf4-9532-1517f59bfd8c",
   "metadata": {},
   "source": [
    "### 3. Consider the following edge cases and show how you're able to solve them in your code:\n",
    "\n",
    "#### 3a) What if the new values to add to the dictionary has duplicate values?\n",
    "#### 3b) How are you handling empty values that the user inputs?\n",
    "#### 3c) Are you able to handle cases wherein height or weight have non-numeric values?\n",
    "#### 3d) How do you handle the situation where the ID# for the print user function is not passed a valid ID?"
   ]
  },
  {
   "cell_type": "code",
   "execution_count": null,
   "id": "c40a2fd1-6987-4be1-8b9c-922b03d6661e",
   "metadata": {},
   "outputs": [],
   "source": [
    "# 3a) What if the new values to add to the dictionary has duplicate values?\n",
    "\n",
    "# 3b) How are you handling empty values that the user inputs?\n",
    "\n",
    "# 3c) Are you able to handle cases wherein height or weight have non-numeric values?\n",
    "\n",
    "# 3d) How do you handle the situation where the ID# for the print user function is not passed a valid ID\n",
    "\n"
   ]
  }
 ],
 "metadata": {
  "kernelspec": {
   "display_name": "Python 3 (ipykernel)",
   "language": "python",
   "name": "python3"
  },
  "language_info": {
   "codemirror_mode": {
    "name": "ipython",
    "version": 3
   },
   "file_extension": ".py",
   "mimetype": "text/x-python",
   "name": "python",
   "nbconvert_exporter": "python",
   "pygments_lexer": "ipython3",
   "version": "3.12.4"
  }
 },
 "nbformat": 4,
 "nbformat_minor": 5
}
